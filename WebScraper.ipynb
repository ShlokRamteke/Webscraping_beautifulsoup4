{
  "nbformat": 4,
  "nbformat_minor": 0,
  "metadata": {
    "colab": {
      "name": "WebScraper.ipynb",
      "provenance": [],
      "authorship_tag": "ABX9TyNsFPe01rSj2OpZAj5TVg4t",
      "include_colab_link": true
    },
    "kernelspec": {
      "name": "python3",
      "display_name": "Python 3"
    },
    "language_info": {
      "name": "python"
    }
  },
  "cells": [
    {
      "cell_type": "markdown",
      "metadata": {
        "id": "view-in-github",
        "colab_type": "text"
      },
      "source": [
        "<a href=\"https://colab.research.google.com/github/ShlokRamteke/Webscraping_beautifulsoup4/blob/main/WebScraper.ipynb\" target=\"_parent\"><img src=\"https://colab.research.google.com/assets/colab-badge.svg\" alt=\"Open In Colab\"/></a>"
      ]
    },
    {
      "cell_type": "markdown",
      "metadata": {
        "id": "wFUif60-8vX7"
      },
      "source": [
        "## Scraping Top Repositories for Topics on GitHub"
      ]
    },
    {
      "cell_type": "markdown",
      "metadata": {
        "id": "bQOFbgJH84C9"
      },
      "source": [
        "Purpose of the notebook:\n",
        "> * Downloading web pages using the requests library\n",
        "> * Inspecting the HTML source code of a web page\n",
        "> * Parsing parts of a website using Beautiful Soup\n",
        "> * Writing parsed information into CSV files\n",
        "> * Using a REST API to retrieve data as JSON\n",
        "> * Combining data from multiple sources\n",
        "> * Using links on a page to crawl a website"
      ]
    },
    {
      "cell_type": "markdown",
      "metadata": {
        "id": "0O7SPVQ295L6"
      },
      "source": [
        "Steps followed:\n",
        "> * We're going to scrape https://github.com/topics\n",
        ">* We'll get a list of topics. For each topic, we'll get topic title, topic page URL and topic description\n",
        ">* For each topic, we'll get the top 25 repositories in the topic from the topic page\n",
        ">* For each repository, we'll grab the repo name, username, stars and repo URL\n",
        ">* For each topic we'll create a CSV file in the following format:"
      ]
    },
    {
      "cell_type": "markdown",
      "metadata": {
        "id": "wypfcDr--2Mn"
      },
      "source": [
        "# Downloading the web page using requests"
      ]
    },
    {
      "cell_type": "markdown",
      "metadata": {
        "id": "Fl20L1Re-7dP"
      },
      "source": [
        "The contents fo a webpage can be downloaded using a library called request. It downloads the HTML data"
      ]
    },
    {
      "cell_type": "code",
      "metadata": {
        "id": "kp8NfkYm-xhL",
        "colab": {
          "base_uri": "https://localhost:8080/"
        },
        "outputId": "5bca8fab-886e-4dab-b189-2690f2a75908"
      },
      "source": [
        "# Install the library\n",
        "!pip install requests --upgrade --quiet"
      ],
      "execution_count": 1,
      "outputs": [
        {
          "output_type": "stream",
          "name": "stdout",
          "text": [
            "\u001b[?25l\r\u001b[K     |█████▎                          | 10 kB 16.3 MB/s eta 0:00:01\r\u001b[K     |██████████▌                     | 20 kB 21.1 MB/s eta 0:00:01\r\u001b[K     |███████████████▉                | 30 kB 16.7 MB/s eta 0:00:01\r\u001b[K     |█████████████████████           | 40 kB 12.0 MB/s eta 0:00:01\r\u001b[K     |██████████████████████████▎     | 51 kB 5.3 MB/s eta 0:00:01\r\u001b[K     |███████████████████████████████▋| 61 kB 5.7 MB/s eta 0:00:01\r\u001b[K     |████████████████████████████████| 62 kB 605 kB/s \n",
            "\u001b[31mERROR: pip's dependency resolver does not currently take into account all the packages that are installed. This behaviour is the source of the following dependency conflicts.\n",
            "google-colab 1.0.0 requires requests~=2.23.0, but you have requests 2.26.0 which is incompatible.\n",
            "datascience 0.10.6 requires folium==0.2.1, but you have folium 0.8.3 which is incompatible.\u001b[0m\n",
            "\u001b[?25h"
          ]
        }
      ]
    },
    {
      "cell_type": "code",
      "metadata": {
        "id": "RGBs-Lqa_He9"
      },
      "source": [
        "# Import the library\n",
        "import requests"
      ],
      "execution_count": 2,
      "outputs": []
    },
    {
      "cell_type": "code",
      "metadata": {
        "colab": {
          "base_uri": "https://localhost:8080/"
        },
        "id": "tMrW0D4R_5XN",
        "outputId": "b5f062b0-5749-4f9d-d5e0-fce41912e456"
      },
      "source": [
        "topic_url = 'https://github.com/topics'\n",
        "response = requests.get(topic_url)\n",
        "response.status_code"
      ],
      "execution_count": 6,
      "outputs": [
        {
          "output_type": "execute_result",
          "data": {
            "text/plain": [
              "200"
            ]
          },
          "metadata": {},
          "execution_count": 6
        }
      ]
    },
    {
      "cell_type": "code",
      "metadata": {
        "id": "G2BUZ7ZrABtC"
      },
      "source": [
        ""
      ],
      "execution_count": null,
      "outputs": []
    }
  ]
}