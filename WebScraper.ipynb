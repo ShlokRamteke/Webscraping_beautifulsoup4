{
  "nbformat": 4,
  "nbformat_minor": 0,
  "metadata": {
    "colab": {
      "name": "WebScraper.ipynb",
      "provenance": [],
      "authorship_tag": "ABX9TyNlJG0OeHpEF5gjaoZ03Mr5",
      "include_colab_link": true
    },
    "kernelspec": {
      "name": "python3",
      "display_name": "Python 3"
    },
    "language_info": {
      "name": "python"
    }
  },
  "cells": [
    {
      "cell_type": "markdown",
      "metadata": {
        "id": "view-in-github",
        "colab_type": "text"
      },
      "source": [
        "<a href=\"https://colab.research.google.com/github/ShlokRamteke/Webscraping_beautifulsoup4/blob/main/WebScraper.ipynb\" target=\"_parent\"><img src=\"https://colab.research.google.com/assets/colab-badge.svg\" alt=\"Open In Colab\"/></a>"
      ]
    },
    {
      "cell_type": "markdown",
      "metadata": {
        "id": "wFUif60-8vX7"
      },
      "source": [
        "## Scraping Top Repositories for Topics on GitHub"
      ]
    },
    {
      "cell_type": "markdown",
      "metadata": {
        "id": "bQOFbgJH84C9"
      },
      "source": [
        "Purpose of the notebook:\n",
        "> * Downloading web pages using the requests library\n",
        "> * Inspecting the HTML source code of a web page\n",
        "> * Parsing parts of a website using Beautiful Soup\n",
        "> * Writing parsed information into CSV files\n",
        "> * Using a REST API to retrieve data as JSON\n",
        "> * Combining data from multiple sources\n",
        "> * Using links on a page to crawl a website"
      ]
    },
    {
      "cell_type": "markdown",
      "metadata": {
        "id": "0O7SPVQ295L6"
      },
      "source": [
        "Steps followed:\n",
        "> * We're going to scrape https://github.com/topics\n",
        ">* We'll get a list of topics. For each topic, we'll get topic title, topic page URL and topic description\n",
        ">* For each topic, we'll get the top 25 repositories in the topic from the topic page\n",
        ">* For each repository, we'll grab the repo name, username, stars and repo URL\n",
        ">* For each topic we'll create a CSV file in the following format:"
      ]
    },
    {
      "cell_type": "markdown",
      "metadata": {
        "id": "wypfcDr--2Mn"
      },
      "source": [
        "# Downloading the web page using requests"
      ]
    },
    {
      "cell_type": "markdown",
      "metadata": {
        "id": "Fl20L1Re-7dP"
      },
      "source": [
        "The contents fo a webpage can be downloaded using a library called request. It downloads the HTML data"
      ]
    },
    {
      "cell_type": "code",
      "metadata": {
        "id": "kp8NfkYm-xhL"
      },
      "source": [
        "# Install the library\n",
        "!pip install requests --upgrade --quiet"
      ],
      "execution_count": null,
      "outputs": []
    },
    {
      "cell_type": "code",
      "metadata": {
        "id": "RGBs-Lqa_He9"
      },
      "source": [
        ""
      ],
      "execution_count": null,
      "outputs": []
    }
  ]
}